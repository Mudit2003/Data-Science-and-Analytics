{
 "cells": [
  {
   "cell_type": "code",
   "execution_count": 2,
   "id": "84a86440",
   "metadata": {},
   "outputs": [
    {
     "name": "stdout",
     "output_type": "stream",
     "text": [
      "(237, 4)\n"
     ]
    },
    {
     "data": {
      "text/html": [
       "<div>\n",
       "<style scoped>\n",
       "    .dataframe tbody tr th:only-of-type {\n",
       "        vertical-align: middle;\n",
       "    }\n",
       "\n",
       "    .dataframe tbody tr th {\n",
       "        vertical-align: top;\n",
       "    }\n",
       "\n",
       "    .dataframe thead th {\n",
       "        text-align: right;\n",
       "    }\n",
       "</style>\n",
       "<table border=\"1\" class=\"dataframe\">\n",
       "  <thead>\n",
       "    <tr style=\"text-align: right;\">\n",
       "      <th></th>\n",
       "      <th>Gender</th>\n",
       "      <th>Age Range</th>\n",
       "      <th>Head Size(cm^3)</th>\n",
       "      <th>Brain Weight(grams)</th>\n",
       "    </tr>\n",
       "  </thead>\n",
       "  <tbody>\n",
       "    <tr>\n",
       "      <th>0</th>\n",
       "      <td>1</td>\n",
       "      <td>1</td>\n",
       "      <td>4512</td>\n",
       "      <td>1530</td>\n",
       "    </tr>\n",
       "    <tr>\n",
       "      <th>1</th>\n",
       "      <td>1</td>\n",
       "      <td>1</td>\n",
       "      <td>3738</td>\n",
       "      <td>1297</td>\n",
       "    </tr>\n",
       "    <tr>\n",
       "      <th>2</th>\n",
       "      <td>1</td>\n",
       "      <td>1</td>\n",
       "      <td>4261</td>\n",
       "      <td>1335</td>\n",
       "    </tr>\n",
       "    <tr>\n",
       "      <th>3</th>\n",
       "      <td>1</td>\n",
       "      <td>1</td>\n",
       "      <td>3777</td>\n",
       "      <td>1282</td>\n",
       "    </tr>\n",
       "    <tr>\n",
       "      <th>4</th>\n",
       "      <td>1</td>\n",
       "      <td>1</td>\n",
       "      <td>4177</td>\n",
       "      <td>1590</td>\n",
       "    </tr>\n",
       "  </tbody>\n",
       "</table>\n",
       "</div>"
      ],
      "text/plain": [
       "   Gender  Age Range  Head Size(cm^3)  Brain Weight(grams)\n",
       "0       1          1             4512                 1530\n",
       "1       1          1             3738                 1297\n",
       "2       1          1             4261                 1335\n",
       "3       1          1             3777                 1282\n",
       "4       1          1             4177                 1590"
      ]
     },
     "execution_count": 2,
     "metadata": {},
     "output_type": "execute_result"
    }
   ],
   "source": [
    "# Importing Necessary Libraries\n",
    "%matplotlib inline\n",
    "import numpy as np\n",
    "import pandas as pd\n",
    "import matplotlib.pyplot as plt\n",
    "plt.rcParams['figure.figsize'] = (7.0, 4.0)\n",
    "# Reading Data\n",
    "data = pd.read_csv('headbrain.csv')\n",
    "print(data.shape)\n",
    "data.head()"
   ]
  },
  {
   "cell_type": "code",
   "execution_count": null,
   "id": "31926ba4",
   "metadata": {},
   "outputs": [],
   "source": []
  },
  {
   "cell_type": "code",
   "execution_count": 5,
   "id": "6bbd628f",
   "metadata": {},
   "outputs": [
    {
     "ename": "NameError",
     "evalue": "name 'X' is not defined",
     "output_type": "error",
     "traceback": [
      "\u001b[0;31m---------------------------------------------------------------------------\u001b[0m",
      "\u001b[0;31mNameError\u001b[0m                                 Traceback (most recent call last)",
      "Cell \u001b[0;32mIn[5], line 2\u001b[0m\n\u001b[1;32m      1\u001b[0m \u001b[38;5;66;03m# Mean X and Y\u001b[39;00m\n\u001b[0;32m----> 2\u001b[0m mean_x \u001b[38;5;241m=\u001b[39m np\u001b[38;5;241m.\u001b[39mmean(X)\n\u001b[1;32m      3\u001b[0m mean_y \u001b[38;5;241m=\u001b[39m np\u001b[38;5;241m.\u001b[39mmean(Y)\n\u001b[1;32m      4\u001b[0m \u001b[38;5;66;03m# Total number of values\u001b[39;00m\n",
      "\u001b[0;31mNameError\u001b[0m: name 'X' is not defined"
     ]
    }
   ],
   "source": [
    "# Mean X and Y\n",
    "mean_x = np.mean(X)\n",
    "mean_y = np.mean(Y)\n",
    "# Total number of values\n",
    "n = len(X)\n",
    "# Using the formula to calculate m and c\n",
    "numer = 0\n",
    "denom = 0\n",
    "for i in range(n):\n",
    "    numer += (X[i] - mean_x) * (Y[i] - mean_y)\n",
    "    denom += (X[i] - mean_x) ** 2\n",
    "    m = numer / denom\n",
    "    c = mean_y - (m * mean_x)\n",
    "# Print coefficients\n",
    "print(m, c)"
   ]
  },
  {
   "cell_type": "code",
   "execution_count": null,
   "id": "45fdbc11",
   "metadata": {},
   "outputs": [],
   "source": []
  },
  {
   "cell_type": "code",
   "execution_count": 6,
   "id": "634aef12",
   "metadata": {},
   "outputs": [
    {
     "name": "stdout",
     "output_type": "stream",
     "text": [
      "(237, 4)\n"
     ]
    }
   ],
   "source": [
    "%matplotlib inline\n",
    "import numpy as np\n",
    "import pandas as pd\n",
    "import matplotlib.pyplot as plt\n",
    "plt.rcParams['figure.figsize'] = (7.0, 4.0)\n",
    "# Reading Data\n",
    "data = pd.read_csv('headbrain.csv')\n",
    "print(data.shape)\n",
    "data.head()\n",
    "# Collecting X and Y\n",
    "X = data['Head Size(cm^3)'].values\n",
    "Y = data['Brain Weight(grams)'].values"
   ]
  },
  {
   "cell_type": "code",
   "execution_count": 7,
   "id": "c437bc35",
   "metadata": {},
   "outputs": [
    {
     "name": "stdout",
     "output_type": "stream",
     "text": [
      "0.26342933948939945 325.57342104944223\n"
     ]
    }
   ],
   "source": [
    "# Mean X and Y\n",
    "mean_x = np.mean(X)\n",
    "mean_y = np.mean(Y)\n",
    "# Total number of values\n",
    "n = len(X)\n",
    "# Using the formula to calculate m and c\n",
    "numer = 0\n",
    "denom = 0\n",
    "for i in range(n):\n",
    "    numer += (X[i] - mean_x) * (Y[i] - mean_y)\n",
    "    denom += (X[i] - mean_x) ** 2\n",
    "    m = numer / denom\n",
    "    c = mean_y - (m * mean_x)\n",
    "# Print coefficients\n",
    "print(m, c)"
   ]
  },
  {
   "cell_type": "code",
   "execution_count": null,
   "id": "a99248ca",
   "metadata": {},
   "outputs": [],
   "source": []
  },
  {
   "cell_type": "code",
   "execution_count": 8,
   "id": "eb5dec9d",
   "metadata": {},
   "outputs": [
    {
     "data": {
      "image/png": "[encoded data removed]",
      "text/plain": [
       "<Figure size 700x400 with 1 Axes>"
      ]
     },
     "metadata": {},
     "output_type": "display_data"
    }
   ],
   "source": [
    "#Plotting Values and Regression Line\n",
    "max_x = np.max(X) + 100\n",
    "min_x = np.min(X) - 100\n",
    "# Calculating line values x and y\n",
    "x = np.linspace(min_x, max_x, 1000)\n",
    "y = c + m * x\n",
    "# Ploting Line\n",
    "plt.plot(x, y, color='#52b920', label='Regression Line')\n",
    "# Ploting Scatter Points\n",
    "plt.scatter(X, Y, c='#ef4423', label='Scatter Plot')\n",
    "plt.xlabel('Head Size in cm3')\n",
    "plt.ylabel('Brain Weight in grams')\n",
    "plt.legend()\n",
    "plt.show()"
   ]
  },
  {
   "cell_type": "code",
   "execution_count": 10,
   "id": "cebac860",
   "metadata": {},
   "outputs": [
    {
     "name": "stdout",
     "output_type": "stream",
     "text": [
      "0.6393117199570003\n"
     ]
    }
   ],
   "source": [
    "#R Square Method — Goodness of Fit\n",
    "#ss_t is the total sum of squares and ss_r is the total sum of squares of residuals(relate them to the formula).\n",
    "ss_t = 0\n",
    "ss_r = 0\n",
    "for i in range(n):\n",
    "    y_pred = c + m * X[i]\n",
    "    ss_t += (Y[i] - mean_y) ** 2\n",
    "    ss_r += (Y[i] - y_pred) ** 2\n",
    "    r2 = 1 - (ss_r/ss_t)\n",
    "print(r2)"
   ]
  },
  {
   "cell_type": "code",
   "execution_count": 11,
   "id": "4921dd0f",
   "metadata": {},
   "outputs": [
    {
     "name": "stdout",
     "output_type": "stream",
     "text": [
      "0.639311719957\n"
     ]
    }
   ],
   "source": [
    "#Linear Regression — Implementation using scikit learn\n",
    "from sklearn.linear_model import LinearRegression\n",
    "from sklearn.metrics import mean_squared_error\n",
    "# Cannot use Rank 1 matrix in scikit learn\n",
    "X = X.reshape((n, 1))\n",
    "# Creating Model\n",
    "reg = LinearRegression()\n",
    "# Fitting training data\n",
    "reg = reg.fit(X, Y)\n",
    "# Y Prediction\n",
    "Y_pred = reg.predict(X)\n",
    "# Calculating R2 Score\n",
    "r2_score = reg.score(X, Y)\n",
    "print(r2_score)"
   ]
  },
  {
   "cell_type": "code",
   "execution_count": 24,
   "id": "bfc29128",
   "metadata": {},
   "outputs": [
    {
     "data": {
      "text/plain": [
       "array([1514.16660083, 1310.27229206, 1448.04583661, 1320.5460363 ,\n",
       "       1425.9177721 , 1269.96760312, 1322.65347102, 1263.11844029,\n",
       "       1277.34362462, 1374.5490509 , 1232.56063691, 1377.44677363,\n",
       "       1284.45621679, 1434.08408162, 1335.03464997, 1346.62554091,\n",
       "       1246.78582124, 1238.61951172, 1140.88722677, 1490.98481895,\n",
       "       1347.15239959, 1391.40852862, 1327.65862847, 1302.89627056,\n",
       "       1576.07249561, 1490.72138961, 1388.77423523, 1385.08622448,\n",
       "       1235.45835965, 1425.39091342, 1323.1803297 , 1325.55119375,\n",
       "       1406.42400097, 1421.70290266, 1420.91261465, 1330.29292186,\n",
       "       1254.68870143, 1312.90658546, 1203.84683891, 1245.46867455,\n",
       "       1369.28046411, 1248.89325596, 1462.27102095, 1327.65862847,\n",
       "       1343.2009595 , 1388.24737655, 1460.42701557, 1159.32728053,\n",
       "       1284.71964613, 1285.50993415, 1350.576981  , 1324.76090573,\n",
       "       1450.41670067, 1395.88682739, 1382.45193108, 1236.512077  ,\n",
       "       1350.31355166, 1423.02004936, 1362.16787194, 1292.09566764,\n",
       "       1343.99124752, 1219.38916994, 1495.72654706, 1445.9384019 ,\n",
       "       1307.37456933, 1202.52969221, 1225.18461541, 1213.85715381,\n",
       "       1492.56539499, 1479.65735735, 1381.39821372, 1341.8838128 ,\n",
       "       1411.16572909, 1394.30625136, 1332.92721526, 1219.65259928,\n",
       "       1262.85501095, 1211.22286041, 1360.85072524, 1335.82493799,\n",
       "       1334.50779129, 1341.35695412, 1181.45534505, 1267.8601684 ,\n",
       "       1361.64101326, 1339.77637808, 1197.26110542, 1222.81375135,\n",
       "       1249.1566853 , 1354.79185043, 1421.43947333, 1199.63196948,\n",
       "       1290.25166226, 1352.68441572, 1300.26197716, 1321.07289498,\n",
       "       1240.4635171 , 1244.94181587, 1288.14422754, 1241.78066379,\n",
       "       1246.25896256, 1335.56150865, 1346.62554091, 1289.98823292,\n",
       "       1278.66077132, 1286.56365151, 1387.72051787, 1220.96974597,\n",
       "       1357.16271449, 1492.56539499, 1298.94483046, 1253.89841341,\n",
       "       1266.27959237, 1272.33846717, 1216.75487654, 1247.31267992,\n",
       "       1271.02132048, 1352.94784506, 1409.32172371, 1362.69473062,\n",
       "       1220.96974597, 1431.9766469 , 1507.84429668, 1277.60705396,\n",
       "       1392.72567532, 1321.863183  , 1218.86231126, 1148.52667761,\n",
       "       1393.252534  , 1269.1773151 , 1291.30537962, 1256.00584813,\n",
       "       1391.40852862, 1291.56880896, 1078.19104397, 1230.71663154,\n",
       "       1324.23404705, 1195.41710004, 1143.25809082, 1160.90785657,\n",
       "       1266.54302171, 1255.47898945, 1161.96157393, 1231.24349021,\n",
       "       1353.73813308, 1352.68441572, 1221.49660465, 1186.19707316,\n",
       "       1234.66807163, 1139.57008007, 1224.65775673, 1200.94911617,\n",
       "       1294.99339037, 1231.50691955, 1340.5666661 , 1156.95641648,\n",
       "       1189.35822524, 1302.10598254, 1380.87135504, 1186.72393184,\n",
       "       1134.56492262, 1321.07289498, 1260.22071756, 1192.78280665,\n",
       "       1246.78582124, 1137.46264536, 1181.19191571, 1210.16914305,\n",
       "       1327.39519913, 1264.96244567, 1154.05869374, 1248.36639728,\n",
       "       1266.27959237, 1306.58428131, 1277.8704833 , 1169.33759543,\n",
       "       1276.28990727, 1263.64529897, 1373.75876288, 1256.26927747,\n",
       "       1297.36425443, 1157.48327516, 1380.6079257 , 1163.54214997,\n",
       "       1242.04409313, 1284.98307547, 1282.34878207, 1134.03806394,\n",
       "       1219.65259928, 1301.05226518, 1159.32728053, 1209.1154257 ,\n",
       "       1115.86143952, 1296.83739575, 1262.32815227, 1056.06297945,\n",
       "       1131.14034121, 1206.4811323 , 1245.73210389, 1194.09995335,\n",
       "       1210.69600173, 1175.92332892, 1188.83136656, 1340.03980742,\n",
       "       1133.51120526, 1298.15454244, 1221.76003399, 1377.97363231,\n",
       "       1199.63196948, 1042.10122446, 1099.26539113, 1268.65045642,\n",
       "       1099.79224981, 1112.96371678, 1270.23103246, 1156.95641648,\n",
       "       1180.66505703, 1160.64442723, 1186.4605025 , 1218.33545258,\n",
       "       1216.22801786, 1080.03504935, 1310.79915074, 1242.04409313,\n",
       "       1286.30022217, 1304.47684659, 1190.67537193, 1433.03036426,\n",
       "       1309.48200404, 1173.28903553, 1296.31053707, 1301.31569452,\n",
       "       1172.23531817, 1219.65259928, 1177.24047562, 1208.58856702,\n",
       "       1218.86231126])"
      ]
     },
     "execution_count": 24,
     "metadata": {},
     "output_type": "execute_result"
    }
   ],
   "source": [
    "Y_pred"
   ]
  },
  {
   "cell_type": "code",
   "execution_count": 25,
   "id": "21b08302",
   "metadata": {},
   "outputs": [
    {
     "data": {
      "text/plain": [
       "array([1530, 1297, 1335, 1282, 1590, 1300, 1400, 1255, 1355, 1375, 1340,\n",
       "       1380, 1355, 1522, 1208, 1405, 1358, 1292, 1340, 1400, 1357, 1287,\n",
       "       1275, 1270, 1635, 1505, 1490, 1485, 1310, 1420, 1318, 1432, 1364,\n",
       "       1405, 1432, 1207, 1375, 1350, 1236, 1250, 1350, 1320, 1525, 1570,\n",
       "       1340, 1422, 1506, 1215, 1311, 1300, 1224, 1350, 1335, 1390, 1400,\n",
       "       1225, 1310, 1560, 1330, 1222, 1415, 1175, 1330, 1485, 1470, 1135,\n",
       "       1310, 1154, 1510, 1415, 1468, 1390, 1380, 1432, 1240, 1195, 1225,\n",
       "       1188, 1252, 1315, 1245, 1430, 1279, 1245, 1309, 1412, 1120, 1220,\n",
       "       1280, 1440, 1370, 1192, 1230, 1346, 1290, 1165, 1240, 1132, 1242,\n",
       "       1270, 1218, 1430, 1588, 1320, 1290, 1260, 1425, 1226, 1360, 1620,\n",
       "       1310, 1250, 1295, 1290, 1290, 1275, 1250, 1270, 1362, 1300, 1173,\n",
       "       1256, 1440, 1180, 1306, 1350, 1125, 1165, 1312, 1300, 1270, 1335,\n",
       "       1450, 1310, 1027, 1235, 1260, 1165, 1080, 1127, 1270, 1252, 1200,\n",
       "       1290, 1334, 1380, 1140, 1243, 1340, 1168, 1322, 1249, 1321, 1192,\n",
       "       1373, 1170, 1265, 1235, 1302, 1241, 1078, 1520, 1460, 1075, 1280,\n",
       "       1180, 1250, 1190, 1374, 1306, 1202, 1240, 1316, 1280, 1350, 1180,\n",
       "       1210, 1127, 1324, 1210, 1290, 1100, 1280, 1175, 1160, 1205, 1163,\n",
       "       1022, 1243, 1350, 1237, 1204, 1090, 1355, 1250, 1076, 1120, 1220,\n",
       "       1240, 1220, 1095, 1235, 1105, 1405, 1150, 1305, 1220, 1296, 1175,\n",
       "        955, 1070, 1320, 1060, 1130, 1250, 1225, 1180, 1178, 1142, 1130,\n",
       "       1185, 1012, 1280, 1103, 1408, 1300, 1246, 1380, 1350, 1060, 1350,\n",
       "       1220, 1110, 1215, 1104, 1170, 1120])"
      ]
     },
     "execution_count": 25,
     "metadata": {},
     "output_type": "execute_result"
    }
   ],
   "source": [
    "Y"
   ]
  },
  {
   "cell_type": "code",
   "execution_count": 28,
   "id": "425d189c",
   "metadata": {},
   "outputs": [],
   "source": [
    "n = len(Y)"
   ]
  },
  {
   "cell_type": "code",
   "execution_count": 30,
   "id": "2826000c",
   "metadata": {},
   "outputs": [
    {
     "name": "stdout",
     "output_type": "stream",
     "text": [
      "15.833399174387523\n",
      "13.272292060817335\n",
      "113.04583661377319\n",
      "38.54603630090378\n",
      "164.0822279033364\n",
      "30.032396881060777\n",
      "77.34652898318109\n",
      "8.118440292214927\n",
      "77.65637537535758\n",
      "0.45094910376928965\n",
      "107.43936308855564\n",
      "2.5532263693858113\n",
      "70.54378320914384\n",
      "87.91591837916485\n",
      "127.03464997282072\n",
      "58.3744590896456\n",
      "111.21417875612792\n",
      "53.38048828029923\n",
      "199.11277323086642\n",
      "90.9848189505451\n",
      "9.847600410666928\n",
      "104.40852862355223\n",
      "52.65862846711752\n",
      "32.89627055511414\n",
      "58.92750439437896\n",
      "14.278610388944344\n",
      "101.2257647713418\n",
      "99.91377552419317\n",
      "74.54164035417216\n",
      "5.390913417684715\n",
      "5.180329695797809\n",
      "106.44880624879761\n",
      "42.42400097444806\n",
      "16.702902664833346\n",
      "11.087385353635\n",
      "123.29292186201155\n",
      "120.31129857144606\n",
      "37.09341454428886\n",
      "32.15316109290006\n",
      "4.5313254535749365\n",
      "19.28046410644265\n",
      "71.10674404021279\n",
      "62.72897905379932\n",
      "242.34137153288248\n",
      "3.2009594969922546\n",
      "33.7526234503207\n",
      "45.572984430225006\n",
      "55.67271946660867\n",
      "26.28035386965439\n",
      "14.490065851186273\n",
      "126.57698100269545\n",
      "25.239094267265727\n",
      "115.41670066917777\n",
      "5.886827394871943\n",
      "17.5480689190872\n",
      "11.512077003785635\n",
      "40.313551663206\n",
      "136.97995063771987\n",
      "32.167871940228906\n",
      "70.0956676360488\n",
      "71.00875248453963\n",
      "44.38916993697467\n",
      "165.72654706135427\n",
      "39.06159810214194\n",
      "162.62543067356614\n",
      "67.52969220965292\n",
      "84.81538459425883\n",
      "59.85715380769716\n",
      "17.434605012518205\n",
      "64.6573573525011\n",
      "86.601786277045\n",
      "48.11618720045476\n",
      "31.165729085257226\n",
      "37.69374864206429\n",
      "92.92721525690558\n",
      "24.65259927646389\n",
      "37.85501095272548\n",
      "23.22286041280313\n",
      "108.85072524278212\n",
      "20.82493799128906\n",
      "89.50779129384205\n",
      "88.64304587943343\n",
      "97.54465494949909\n",
      "22.86016840302409\n",
      "52.64101326125001\n",
      "72.22362191637012\n",
      "77.26110541986509\n",
      "2.813751350336588\n",
      "30.84331470072334\n",
      "85.20814956547429\n",
      "51.4394733253439\n",
      "7.6319694752696705\n",
      "60.25166225962312\n",
      "6.68441571861058\n",
      "10.261977160220113\n",
      "156.07289497988268\n",
      "0.4635170961264521\n",
      "112.94181586744617\n",
      "46.14422754370776\n",
      "28.219336206426533\n",
      "28.25896256489341\n",
      "94.43849134820039\n",
      "241.3744590896456\n",
      "30.01176707986633\n",
      "11.339228677910569\n",
      "26.563651506771293\n",
      "37.27948212929914\n",
      "5.030254026089096\n",
      "2.837285510069705\n",
      "127.4346050125182\n",
      "11.055169537226902\n",
      "3.8984134100858228\n",
      "28.720407633912373\n",
      "17.661532825656195\n",
      "73.24512345791936\n",
      "27.687320077149252\n",
      "21.02132047689679\n",
      "82.94784505810003\n",
      "47.32172370883154\n",
      "62.6947306192078\n",
      "47.969745973910904\n",
      "175.97664690492002\n",
      "67.84429667786662\n",
      "97.60705396413186\n",
      "86.72567532099947\n",
      "28.13681700164898\n",
      "93.86231125799577\n",
      "16.473322385673782\n",
      "81.25253399997791\n",
      "30.822684899529122\n",
      "21.305379617580456\n",
      "78.99415187399882\n",
      "58.59147137644777\n",
      "18.431191042930095\n",
      "51.19104397065644\n",
      "4.283368464981322\n",
      "64.2340470537556\n",
      "30.417100043439177\n",
      "63.25809082453816\n",
      "33.90785657032802\n",
      "3.456978294423152\n",
      "3.478989447022286\n",
      "38.03842607171464\n",
      "58.756509786002425\n",
      "19.738133076568374\n",
      "27.31558428138942\n",
      "81.4966046528898\n",
      "56.80292683868993\n",
      "105.33192837264028\n",
      "28.42991992831344\n",
      "97.3422432732375\n",
      "48.05088382728354\n",
      "26.00660962956772\n",
      "39.50691955348702\n",
      "32.433333897901775\n",
      "13.04358352201325\n",
      "75.641774764817\n",
      "67.10598253664602\n",
      "78.87135504397611\n",
      "54.27606815971103\n",
      "56.56492262138795\n",
      "198.92710502011732\n",
      "199.77928244216855\n",
      "117.78280664854515\n",
      "33.21417875612792\n",
      "42.5373546442288\n",
      "68.80808428898854\n",
      "20.169143054845563\n",
      "46.6048008723717\n",
      "41.03755433135939\n",
      "47.9413062563965\n",
      "8.366397280808542\n",
      "49.72040763391237\n",
      "26.58428130796574\n",
      "72.12951669637869\n",
      "10.662404566011446\n",
      "66.28990726668462\n",
      "136.6452989711936\n",
      "49.758762877762365\n",
      "46.269277465490404\n",
      "7.364254425836862\n",
      "57.48327515696565\n",
      "100.60792570448712\n",
      "11.457850034778176\n",
      "82.04409313306292\n",
      "79.98307546983506\n",
      "119.34878207494103\n",
      "112.03806394240928\n",
      "23.34740072353611\n",
      "48.94773482131177\n",
      "77.67271946660867\n",
      "5.115425696887996\n",
      "25.86143951764052\n",
      "58.162604253142035\n",
      "12.328152273746582\n",
      "19.937020546452914\n",
      "11.140341208025802\n",
      "13.518867698006034\n",
      "5.732103885914512\n",
      "25.900046654007838\n",
      "115.69600173382423\n",
      "59.07667107877637\n",
      "83.8313665562041\n",
      "64.96019257688067\n",
      "16.488794736569616\n",
      "6.84545755569502\n",
      "1.760033992379249\n",
      "81.97363230959309\n",
      "24.63196947526967\n",
      "87.10122446060882\n",
      "29.26539112980845\n",
      "51.34954357850779\n",
      "39.792249808787346\n",
      "17.03628321674296\n",
      "20.231032458428672\n",
      "68.04358352201325\n",
      "0.6650570320327915\n",
      "17.355572769161427\n",
      "44.46050250079952\n",
      "88.33545257901687\n",
      "31.22801786310174\n",
      "68.03504934708235\n",
      "30.799150739796005\n",
      "139.04409313306292\n",
      "121.69977783271815\n",
      "4.476846592050606\n",
      "55.324628067369986\n",
      "53.030364262877356\n",
      "40.51799595765078\n",
      "113.2890355263296\n",
      "53.68946293212093\n",
      "81.31569451817768\n",
      "62.23531816837203\n",
      "4.652599276463889\n",
      "73.24047561867064\n",
      "38.5885670179091\n",
      "98.86231125799577\n"
     ]
    }
   ],
   "source": [
    "for i in range(n):\n",
    "    print(abs(Y_pred[i]-Y[i]))"
   ]
  },
  {
   "cell_type": "code",
   "execution_count": 12,
   "id": "46a3858c",
   "metadata": {},
   "outputs": [],
   "source": [
    "from sklearn.datasets import make_regression\n",
    "from matplotlib import pyplot as plt\n",
    "import numpy as np\n",
    "from sklearn.linear_model import LinearRegression\n",
    "X, y, coefficients = make_regression(\n",
    "n_samples=50,\n",
    "n_features=1,\n",
    "n_informative=1,\n",
    "n_targets=1,\n",
    "noise=5,\n",
    "coef=True,\n",
    "random_state=1\n",
    ")\n",
    "n = X.shape[1]\n",
    "r = np.linalg.matrix_rank(X)\n",
    "U, sigma, VT = np.linalg.svd(X, full_matrices=False)\n",
    "D_plus = np.diag(np.hstack([1/sigma[:r], np.zeros(n-r)]))\n",
    "V = VT.T\n",
    "X_plus = V.dot(D_plus).dot(U.T)\n",
    "w = X_plus.dot(y)"
   ]
  },
  {
   "cell_type": "code",
   "execution_count": 31,
   "id": "8699308d",
   "metadata": {},
   "outputs": [],
   "source": [
    "from sklearn.datasets import make_regression\n",
    "from matplotlib import pyplot as plt\n",
    "import numpy as np\n",
    "from sklearn.linear_model import LinearRegression\n",
    "\n",
    "X, y, coefficients = make_regression(\n",
    "n_samples=50,\n",
    "n_features=1,\n",
    "n_informative=1,\n",
    "n_targets=1,\n",
    "noise=5,\n",
    "coef=True,\n",
    "random_state=1\n",
    ")\n",
    "n = X.shape[1]\n",
    "r = np.linalg.matrix_rank(X)\n",
    "U, sigma, VT = np.linalg.svd(X, full_matrices=False)\n",
    "D_plus = np.diag(np.hstack([1/sigma[:r], np.zeros(n-r)]))\n",
    "V = VT.T\n",
    "X_plus = V.dot(D_plus).dot(U.T)\n",
    "w = X_plus.dot(y)"
   ]
  },
  {
   "cell_type": "code",
   "execution_count": 35,
   "id": "c1c36b5e",
   "metadata": {},
   "outputs": [],
   "source": [
    "from sklearn.datasets import make_regression\n",
    "from matplotlib import pyplot as plt\n",
    "import numpy as np\n",
    "from sklearn.linear_model import LinearRegression\n",
    "\n",
    "X, y, coefficients = mfrom sklearn.datasets import make_regression\n",
    "from matplotlib import pyplot as plt\n",
    "import numpy as np\n",
    "from sklearn.linear_model import LinearRegression\n",
    "\n",
    "X, y, coefficients = make_regression(\n",
    "n_samples=50,\n",
    "n_features=1,\n",
    "n_informative=1,\n",
    "n_targets=1,\n",
    "noise=5,\n",
    "coef=True,\n",
    "random_state=1\n",
    ")\n",
    "n = X.shape[1]\n",
    "r = np.linalg.matrix_rank(X)\n",
    "U, sigma, VT = np.linalg.svd(X, full_matrices=False)\n",
    "D_plus = np.diag(np.hstack([1/sigma[:r], np.zeros(n-r)]))\n",
    "V = VT.T\n",
    "X_plus = V.dot(D_plus).dot(U.T)\n",
    "w = X_plus.dot(y)ake_regression(\n",
    "n_samples=50,\n",
    "n_features=1,\n",
    "n_informative=1,\n",
    "n_targets=1,\n",
    "noise=5,\n",
    "coef=True,\n",
    "random_state=1\n",
    ")\n",
    "n = X.shape[1]\n",
    "r = np.linalg.matrix_rank(X)\n",
    "U, sigma, VT = np.linalg.svd(X, full_matrices=False)\n",
    "D_plus = np.diag(np.hstack([1/sigma[:r], np.zeros(n-r)]))\n",
    "V = VT.T\n",
    "X_plus = V.dot(D_plus).dot(U.T)\n",
    "w = X_plus.dot(y)\n"
   ]
  },
  {
   "cell_type": "code",
   "execution_count": 13,
   "id": "d22800e3",
   "metadata": {},
   "outputs": [
    {
     "name": "stderr",
     "output_type": "stream",
     "text": [
      "/tmp/ipykernel_36654/1323529945.py:2: FutureWarning: `rcond` parameter will change to the default of machine precision times ``max(M, N)`` where M and N are the input matrix dimensions.\n",
      "To use the future default and silence this warning we advise to pass `rcond=None`, to keep using the old, explicitly pass `rcond=-1`.\n",
      "  np.linalg.lstsq(X, y)\n"
     ]
    },
    {
     "data": {
      "text/plain": [
       "(array([89.22901347]), array([888.96370014]), 1, array([6.85840501]))"
      ]
     },
     "execution_count": 13,
     "metadata": {},
     "output_type": "execute_result"
    }
   ],
   "source": [
    "error = np.linalg.norm(X.dot(w) - y, ord=2) ** 2\n",
    "np.linalg.lstsq(X, y)"
   ]
  },
  {
   "cell_type": "code",
   "execution_count": null,
   "id": "8250f12a",
   "metadata": {},
   "outputs": [],
   "source": []
  },
  {
   "cell_type": "code",
   "execution_count": 14,
   "id": "b616f828",
   "metadata": {},
   "outputs": [
    {
     "data": {
      "text/plain": [
       "[<matplotlib.lines.Line2D at 0x7f5cf51fc050>]"
      ]
     },
     "execution_count": 14,
     "metadata": {},
     "output_type": "execute_result"
    },
    {
     "data": {
      "image/png": "[encoded data removed]",
      "text/plain": [
       "<Figure size 700x400 with 1 Axes>"
      ]
     },
     "metadata": {},
     "output_type": "display_data"
    }
   ],
   "source": [
    "plt.scatter(X, y)\n",
    "plt.plot(X, w*X, c='red')"
   ]
  },
  {
   "cell_type": "code",
   "execution_count": 15,
   "id": "c524d34d",
   "metadata": {},
   "outputs": [],
   "source": [
    "n = 0 "
   ]
  },
  {
   "cell_type": "code",
   "execution_count": 17,
   "id": "6853e85a",
   "metadata": {},
   "outputs": [],
   "source": [
    "n = n + 1"
   ]
  },
  {
   "cell_type": "code",
   "execution_count": 19,
   "id": "ccaa0a42",
   "metadata": {},
   "outputs": [],
   "source": [
    "n = 0"
   ]
  },
  {
   "cell_type": "code",
   "execution_count": 20,
   "id": "e288f12e",
   "metadata": {},
   "outputs": [
    {
     "data": {
      "text/plain": [
       "0"
      ]
     },
     "execution_count": 20,
     "metadata": {},
     "output_type": "execute_result"
    }
   ],
   "source": [
    "n"
   ]
  },
  {
   "cell_type": "code",
   "execution_count": 21,
   "id": "20b0c3b3",
   "metadata": {},
   "outputs": [],
   "source": [
    "n = n + 1"
   ]
  },
  {
   "cell_type": "code",
   "execution_count": 22,
   "id": "9981f5dd",
   "metadata": {},
   "outputs": [],
   "source": [
    "n += 1"
   ]
  },
  {
   "cell_type": "code",
   "execution_count": 23,
   "id": "9301d7af",
   "metadata": {},
   "outputs": [
    {
     "data": {
      "text/plain": [
       "2"
      ]
     },
     "execution_count": 23,
     "metadata": {},
     "output_type": "execute_result"
    }
   ],
   "source": [
    "n"
   ]
  },
  {
   "cell_type": "code",
   "execution_count": 32,
   "id": "ba91c336",
   "metadata": {},
   "outputs": [],
   "source": [
    "import numpy"
   ]
  },
  {
   "cell_type": "code",
   "execution_count": 33,
   "id": "072d5448",
   "metadata": {},
   "outputs": [],
   "source": [
    "import numpy as np"
   ]
  },
  {
   "cell_type": "code",
   "execution_count": 36,
   "id": "e6bc7d50",
   "metadata": {},
   "outputs": [],
   "source": [
    "# Importing Necessary Libraries\n",
    "%matplotlib inline \n",
    "import numpy as np\n",
    "import pandas as pd\n",
    "import matplotlib.pyplot as plt\n",
    "\n",
    "plt.rcParams['figure.figsize'] = (10.0 , 10.0)"
   ]
  },
  {
   "cell_type": "code",
   "execution_count": null,
   "id": "f11c7ddc",
   "metadata": {},
   "outputs": [],
   "source": []
  },
  {
   "cell_type": "code",
   "execution_count": 38,
   "id": "dda8c3f1",
   "metadata": {},
   "outputs": [],
   "source": [
    "def calculateB(x , y , n):\n",
    "    #sum of array\n",
    "    sx = sum(x)\n",
    "    \n",
    "    # sum of array y\n",
    "    sy = sum(y)\n",
    "    \n",
    "   # for sum of product of x and y\n",
    "    sxsy = 0\n",
    "    # sum of square of x\n",
    "    sx2 = 0\n",
    "    for i in range(n):\n",
    "        sxsy += x[i] * y[i]\n",
    "        sx2 += x[i] * x[i]\n",
    "    b = (n * sxsy - sx * sy)/(n * sx2 - sx * sx)\n",
    "    return b"
   ]
  },
  {
   "cell_type": "code",
   "execution_count": 40,
   "id": "ba849a18",
   "metadata": {},
   "outputs": [],
   "source": [
    "def leastRegLine(X,Y,n):\n",
    "    # Finding b\n",
    "    b = calculateB(X, Y, n)\n",
    "    meanX = int(sum(X)/n)\n",
    "    meanY = int(sum(Y)/n)\n",
    "    # Calculating a\n",
    "    a = meanY - b * meanX\n",
    "    # Printing regression line\n",
    "    print(\"Regression line:\")\n",
    "    print(\"Y = \", '%.3f'%a, \" + \", '%.3f'%b, \"*X\", sep=\"\")"
   ]
  },
  {
   "cell_type": "code",
   "execution_count": 41,
   "id": "8c605a5b",
   "metadata": {},
   "outputs": [
    {
     "name": "stdout",
     "output_type": "stream",
     "text": [
      "Regression line:\n",
      "Y = 5.685 + 0.863*X\n"
     ]
    }
   ],
   "source": [
    "# Statistical data\n",
    "X = [95, 85, 80, 70, 60 ]\n",
    "Y = [90, 80, 70, 65, 60 ]\n",
    "n = len(X)\n",
    "leastRegLine(X, Y, n)"
   ]
  },
  {
   "cell_type": "markdown",
   "id": "677346a2",
   "metadata": {},
   "source": [
    "Plots and Visualization\n"
   ]
  },
  {
   "cell_type": "code",
   "execution_count": 42,
   "id": "c49bcf06",
   "metadata": {},
   "outputs": [
    {
     "data": {
      "image/png": "[encoded data removed]",
      "text/plain": [
       "<Figure size 1000x1000 with 1 Axes>"
      ]
     },
     "metadata": {},
     "output_type": "display_data"
    }
   ],
   "source": [
    "import matplotlib.pyplot as plt # the standard plotting package\n",
    "import numpy as np\n",
    "x_list = [0 , 1, 2, 3]\n",
    "y_list = [0, 1,2, 3]\n",
    "plt.plot(x_list,y_list)\n",
    "plt.show()\n"
   ]
  },
  {
   "cell_type": "code",
   "execution_count": 43,
   "id": "2352d26e",
   "metadata": {},
   "outputs": [
    {
     "data": {
      "image/png": "[encoded data removed]",
      "text/plain": [
       "<Figure size 1000x1000 with 1 Axes>"
      ]
     },
     "metadata": {},
     "output_type": "display_data"
    }
   ],
   "source": [
    "x_crazy = [1,3,0,2]\n",
    "y_crazy = [2,1,0,3]\n",
    "plt.plot(x_crazy, y_crazy)\n",
    "plt.show()"
   ]
  }
 ],
 "metadata": {
  "kernelspec": {
   "display_name": "Python 3 (ipykernel)",
   "language": "python",
   "name": "python3"
  },
  "language_info": {
   "codemirror_mode": {
    "name": "ipython",
    "version": 3
   },
   "file_extension": ".py",
   "mimetype": "text/x-python",
   "name": "python",
   "nbconvert_exporter": "python",
   "pygments_lexer": "ipython3",
   "version": "3.11.5"
  }
 },
 "nbformat": 4,
 "nbformat_minor": 5
}
